{
 "cells": [
  {
   "cell_type": "markdown",
   "id": "3ae5b965",
   "metadata": {},
   "source": [
    "هدف پروژه: پیش‌بینی قیمت خانه با استفاده از داده‌های مربوط به ویژگی‌های مختلف خانه‌ها. برای این منظور، مدل‌های مختلف رگرسیون شامل رگرسیون خطی ساده، Ridge، Lasso، و ElasticNet را ارزیابی کردیم و عملکرد هر کدام را با معیارهای مختلف سنجیدیم.\n",
    "\n"
   ]
  },
  {
   "cell_type": "markdown",
   "id": "18f93da4",
   "metadata": {},
   "source": [
    "# بارگذاری کتابخانه ها و آماده سازی محیط:\n",
    "این بلوک کتابخانه‌های موردنیاز را بارگذاری می‌کند که شامل ابزارهایی برای تحلیل داده، مصورسازی و پیاده‌سازی مدل‌های رگرسیون است."
   ]
  },
  {
   "cell_type": "code",
   "execution_count": 1,
   "id": "3ea0dfb8",
   "metadata": {},
   "outputs": [],
   "source": [
    "# بارگذاری کتابخانه‌های اصلی مورد نیاز\n",
    "import pandas as pd           # برای کار با داده‌ها\n",
    "import numpy as np            # برای محاسبات عددی\n",
    "import matplotlib.pyplot as plt   # برای ترسیم نمودارها\n",
    "import seaborn as sns         # برای مصورسازی پیشرفته\n",
    "from sklearn.model_selection import train_test_split  # برای تقسیم داده‌ها به آموزش و تست\n",
    "from sklearn.linear_model import LinearRegression, Ridge, Lasso, ElasticNet  # برای انواع مدل‌های رگرسیون\n",
    "from sklearn.metrics import mean_squared_error, mean_absolute_error, r2_score  # برای ارزیابی مدل‌ها\n"
   ]
  },
  {
   "cell_type": "markdown",
   "id": "740b3270",
   "metadata": {},
   "source": [
    "#  بارگذاری داده‌ها و مشاهده شکل اولیه\n",
    "در این مرحله، داده‌های آموزشی و تست را از فایل‌های CSV بارگذاری کرده و شکل آن‌ها را بررسی می‌کنیم.\n",
    "\n"
   ]
  },
  {
   "cell_type": "code",
   "execution_count": 2,
   "id": "fa893591",
   "metadata": {},
   "outputs": [
    {
     "name": "stdout",
     "output_type": "stream",
     "text": [
      "Train data shape: (1460, 81)\n",
      "Test data shape: (1459, 80)\n"
     ]
    },
    {
     "data": {
      "text/html": [
       "<div>\n",
       "<style scoped>\n",
       "    .dataframe tbody tr th:only-of-type {\n",
       "        vertical-align: middle;\n",
       "    }\n",
       "\n",
       "    .dataframe tbody tr th {\n",
       "        vertical-align: top;\n",
       "    }\n",
       "\n",
       "    .dataframe thead th {\n",
       "        text-align: right;\n",
       "    }\n",
       "</style>\n",
       "<table border=\"1\" class=\"dataframe\">\n",
       "  <thead>\n",
       "    <tr style=\"text-align: right;\">\n",
       "      <th></th>\n",
       "      <th>Id</th>\n",
       "      <th>MSSubClass</th>\n",
       "      <th>MSZoning</th>\n",
       "      <th>LotFrontage</th>\n",
       "      <th>LotArea</th>\n",
       "      <th>Street</th>\n",
       "      <th>Alley</th>\n",
       "      <th>LotShape</th>\n",
       "      <th>LandContour</th>\n",
       "      <th>Utilities</th>\n",
       "      <th>...</th>\n",
       "      <th>PoolArea</th>\n",
       "      <th>PoolQC</th>\n",
       "      <th>Fence</th>\n",
       "      <th>MiscFeature</th>\n",
       "      <th>MiscVal</th>\n",
       "      <th>MoSold</th>\n",
       "      <th>YrSold</th>\n",
       "      <th>SaleType</th>\n",
       "      <th>SaleCondition</th>\n",
       "      <th>SalePrice</th>\n",
       "    </tr>\n",
       "  </thead>\n",
       "  <tbody>\n",
       "    <tr>\n",
       "      <th>0</th>\n",
       "      <td>1</td>\n",
       "      <td>60</td>\n",
       "      <td>RL</td>\n",
       "      <td>65.0</td>\n",
       "      <td>8450</td>\n",
       "      <td>Pave</td>\n",
       "      <td>NaN</td>\n",
       "      <td>Reg</td>\n",
       "      <td>Lvl</td>\n",
       "      <td>AllPub</td>\n",
       "      <td>...</td>\n",
       "      <td>0</td>\n",
       "      <td>NaN</td>\n",
       "      <td>NaN</td>\n",
       "      <td>NaN</td>\n",
       "      <td>0</td>\n",
       "      <td>2</td>\n",
       "      <td>2008</td>\n",
       "      <td>WD</td>\n",
       "      <td>Normal</td>\n",
       "      <td>208500</td>\n",
       "    </tr>\n",
       "    <tr>\n",
       "      <th>1</th>\n",
       "      <td>2</td>\n",
       "      <td>20</td>\n",
       "      <td>RL</td>\n",
       "      <td>80.0</td>\n",
       "      <td>9600</td>\n",
       "      <td>Pave</td>\n",
       "      <td>NaN</td>\n",
       "      <td>Reg</td>\n",
       "      <td>Lvl</td>\n",
       "      <td>AllPub</td>\n",
       "      <td>...</td>\n",
       "      <td>0</td>\n",
       "      <td>NaN</td>\n",
       "      <td>NaN</td>\n",
       "      <td>NaN</td>\n",
       "      <td>0</td>\n",
       "      <td>5</td>\n",
       "      <td>2007</td>\n",
       "      <td>WD</td>\n",
       "      <td>Normal</td>\n",
       "      <td>181500</td>\n",
       "    </tr>\n",
       "    <tr>\n",
       "      <th>2</th>\n",
       "      <td>3</td>\n",
       "      <td>60</td>\n",
       "      <td>RL</td>\n",
       "      <td>68.0</td>\n",
       "      <td>11250</td>\n",
       "      <td>Pave</td>\n",
       "      <td>NaN</td>\n",
       "      <td>IR1</td>\n",
       "      <td>Lvl</td>\n",
       "      <td>AllPub</td>\n",
       "      <td>...</td>\n",
       "      <td>0</td>\n",
       "      <td>NaN</td>\n",
       "      <td>NaN</td>\n",
       "      <td>NaN</td>\n",
       "      <td>0</td>\n",
       "      <td>9</td>\n",
       "      <td>2008</td>\n",
       "      <td>WD</td>\n",
       "      <td>Normal</td>\n",
       "      <td>223500</td>\n",
       "    </tr>\n",
       "    <tr>\n",
       "      <th>3</th>\n",
       "      <td>4</td>\n",
       "      <td>70</td>\n",
       "      <td>RL</td>\n",
       "      <td>60.0</td>\n",
       "      <td>9550</td>\n",
       "      <td>Pave</td>\n",
       "      <td>NaN</td>\n",
       "      <td>IR1</td>\n",
       "      <td>Lvl</td>\n",
       "      <td>AllPub</td>\n",
       "      <td>...</td>\n",
       "      <td>0</td>\n",
       "      <td>NaN</td>\n",
       "      <td>NaN</td>\n",
       "      <td>NaN</td>\n",
       "      <td>0</td>\n",
       "      <td>2</td>\n",
       "      <td>2006</td>\n",
       "      <td>WD</td>\n",
       "      <td>Abnorml</td>\n",
       "      <td>140000</td>\n",
       "    </tr>\n",
       "    <tr>\n",
       "      <th>4</th>\n",
       "      <td>5</td>\n",
       "      <td>60</td>\n",
       "      <td>RL</td>\n",
       "      <td>84.0</td>\n",
       "      <td>14260</td>\n",
       "      <td>Pave</td>\n",
       "      <td>NaN</td>\n",
       "      <td>IR1</td>\n",
       "      <td>Lvl</td>\n",
       "      <td>AllPub</td>\n",
       "      <td>...</td>\n",
       "      <td>0</td>\n",
       "      <td>NaN</td>\n",
       "      <td>NaN</td>\n",
       "      <td>NaN</td>\n",
       "      <td>0</td>\n",
       "      <td>12</td>\n",
       "      <td>2008</td>\n",
       "      <td>WD</td>\n",
       "      <td>Normal</td>\n",
       "      <td>250000</td>\n",
       "    </tr>\n",
       "  </tbody>\n",
       "</table>\n",
       "<p>5 rows × 81 columns</p>\n",
       "</div>"
      ],
      "text/plain": [
       "   Id  MSSubClass MSZoning  LotFrontage  LotArea Street Alley LotShape  \\\n",
       "0   1          60       RL         65.0     8450   Pave   NaN      Reg   \n",
       "1   2          20       RL         80.0     9600   Pave   NaN      Reg   \n",
       "2   3          60       RL         68.0    11250   Pave   NaN      IR1   \n",
       "3   4          70       RL         60.0     9550   Pave   NaN      IR1   \n",
       "4   5          60       RL         84.0    14260   Pave   NaN      IR1   \n",
       "\n",
       "  LandContour Utilities  ... PoolArea PoolQC Fence MiscFeature MiscVal MoSold  \\\n",
       "0         Lvl    AllPub  ...        0    NaN   NaN         NaN       0      2   \n",
       "1         Lvl    AllPub  ...        0    NaN   NaN         NaN       0      5   \n",
       "2         Lvl    AllPub  ...        0    NaN   NaN         NaN       0      9   \n",
       "3         Lvl    AllPub  ...        0    NaN   NaN         NaN       0      2   \n",
       "4         Lvl    AllPub  ...        0    NaN   NaN         NaN       0     12   \n",
       "\n",
       "  YrSold  SaleType  SaleCondition  SalePrice  \n",
       "0   2008        WD         Normal     208500  \n",
       "1   2007        WD         Normal     181500  \n",
       "2   2008        WD         Normal     223500  \n",
       "3   2006        WD        Abnorml     140000  \n",
       "4   2008        WD         Normal     250000  \n",
       "\n",
       "[5 rows x 81 columns]"
      ]
     },
     "execution_count": 2,
     "metadata": {},
     "output_type": "execute_result"
    }
   ],
   "source": [
    "# بارگذاری داده‌های آموزشی و تست\n",
    "train_data = pd.read_csv('train.csv')\n",
    "test_data = pd.read_csv('test.csv')\n",
    "\n",
    "# نمایش شکل و اولین سطرهای داده‌های آموزشی\n",
    "print(\"Train data shape:\", train_data.shape)\n",
    "print(\"Test data shape:\", test_data.shape)\n",
    "train_data.head()\n"
   ]
  },
  {
   "cell_type": "markdown",
   "id": "f6a29ea9",
   "metadata": {},
   "source": [
    "توضیح داده‌ها: مجموعه داده شامل ویژگی‌های مختلفی از خانه‌ها مانند مساحت، تعداد اتاق‌ها، نوع ساخت، کیفیت و شرایط مختلف است. این ویژگی‌ها به ما کمک می‌کنند تا با استفاده از مدل‌های رگرسیون، قیمت نهایی خانه را پیش‌بینی کنیم.\n",
    "\n"
   ]
  },
  {
   "cell_type": "markdown",
   "id": "3469d171",
   "metadata": {},
   "source": [
    "# بررسی و شناسایی ستون‌های دارای مقادیر گم‌شده\n",
    "در این بخش، ستون‌های دارای مقادیر گم‌شده شناسایی شده و مرتب‌سازی می‌شوند تا مشخص شود کدام ستون‌ها بیشترین مقادیر گم‌شده را دارند."
   ]
  },
  {
   "cell_type": "code",
   "execution_count": 3,
   "id": "d96713ac",
   "metadata": {},
   "outputs": [
    {
     "name": "stdout",
     "output_type": "stream",
     "text": [
      "ستون‌های دارای مقادیر گم‌شده و تعداد آن‌ها:\n",
      " PoolQC          1453\n",
      "MiscFeature     1406\n",
      "Alley           1369\n",
      "Fence           1179\n",
      "FireplaceQu      690\n",
      "LotFrontage      259\n",
      "GarageYrBlt       81\n",
      "GarageCond        81\n",
      "GarageType        81\n",
      "GarageFinish      81\n",
      "GarageQual        81\n",
      "BsmtFinType2      38\n",
      "BsmtExposure      38\n",
      "BsmtQual          37\n",
      "BsmtCond          37\n",
      "BsmtFinType1      37\n",
      "MasVnrArea         8\n",
      "MasVnrType         8\n",
      "Electrical         1\n",
      "dtype: int64\n"
     ]
    }
   ],
   "source": [
    "# بررسی مقادیر گم‌شده در داده‌های آموزشی و نمایش به ترتیب تعداد\n",
    "missing_values = train_data.isnull().sum().sort_values(ascending=False)\n",
    "missing_values = missing_values[missing_values > 0]  # انتخاب فقط ستون‌های دارای مقدار گم‌شده\n",
    "print(\"ستون‌های دارای مقادیر گم‌شده و تعداد آن‌ها:\\n\", missing_values)\n"
   ]
  },
  {
   "cell_type": "markdown",
   "id": "84031bf0",
   "metadata": {},
   "source": [
    "# پر کردن مقادیر گم‌شده\n",
    "در این مرحله، برای پر کردن مقادیر گم‌شده از روش‌های مختلف استفاده می‌شود. برای مثال، مقادیر گم‌شده در ستون‌های خاصی با 'None' و برخی دیگر با میانگین یا مد ستون پر می‌شوند.\n",
    "پر کردن مقادیر گم‌شده"
   ]
  },
  {
   "cell_type": "code",
   "execution_count": 4,
   "id": "0bf7e136",
   "metadata": {},
   "outputs": [
    {
     "name": "stdout",
     "output_type": "stream",
     "text": [
      "مجموع مقادیر گم‌شده باقی‌مانده: 0\n"
     ]
    }
   ],
   "source": [
    "# پر کردن مقادیر گم‌شده برای برخی از ستون‌ها با 'None'\n",
    "cols_with_none = ['PoolQC', 'MiscFeature', 'Alley', 'Fence', 'FireplaceQu']\n",
    "train_data[cols_with_none] = train_data[cols_with_none].fillna('None')\n",
    "\n",
    "# پر کردن مقادیر گم‌شده برای ستون‌های مربوط به گاراژ و زیرزمین\n",
    "garage_cols = ['GarageType', 'GarageFinish', 'GarageQual', 'GarageCond']\n",
    "bsmt_cols = ['BsmtQual', 'BsmtCond', 'BsmtExposure', 'BsmtFinType1', 'BsmtFinType2']\n",
    "train_data[garage_cols + bsmt_cols] = train_data[garage_cols + bsmt_cols].fillna('None')\n",
    "train_data['GarageYrBlt'].fillna(0, inplace=True)  # پر کردن مقدار سال ساخت گاراژ با صفر\n",
    "\n",
    "# پر کردن مقادیر گم‌شده برای عرض زمین و متراژ نمای بیرونی خانه\n",
    "train_data['LotFrontage'].fillna(train_data['LotFrontage'].median(), inplace=True)\n",
    "train_data['MasVnrArea'].fillna(train_data['MasVnrArea'].median(), inplace=True)\n",
    "\n",
    "# پر کردن مقادیر گم‌شده برای نوع نمای بیرونی و ستون الکتریکال\n",
    "train_data['MasVnrType'].fillna(train_data['MasVnrType'].mode()[0], inplace=True)\n",
    "train_data['Electrical'].fillna(train_data['Electrical'].mode()[0], inplace=True)\n",
    "\n",
    "# تایید نهایی اینکه دیگر مقادیر گم‌شده‌ای باقی نمانده باشد\n",
    "print(\"مجموع مقادیر گم‌شده باقی‌مانده:\", train_data.isnull().sum().sum())\n"
   ]
  },
  {
   "cell_type": "markdown",
   "id": "eeeef93c",
   "metadata": {},
   "source": [
    "\n",
    "# مصورسازی توزیع قیمت فروش و تبدیل لگاریتمی آن\n",
    "برای نرمال‌سازی داده‌های قیمت فروش، ابتدا توزیع اصلی را مصور کرده و سپس از تبدیل لگاریتمی برای کاهش اثر مقادیر بالا استفاده می‌کنیم."
   ]
  },
  {
   "cell_type": "code",
   "execution_count": 5,
   "id": "bb19ecbd",
   "metadata": {},
   "outputs": [
    {
     "data": {
      "image/png": "[encoded data removed]",
      "text/plain": [
       "<Figure size 1000x600 with 1 Axes>"
      ]
     },
     "metadata": {},
     "output_type": "display_data"
    },
    {
     "data": {
      "image/png": "[encoded data removed]",
      "text/plain": [
       "<Figure size 1000x600 with 1 Axes>"
      ]
     },
     "metadata": {},
     "output_type": "display_data"
    }
   ],
   "source": [
    "# رسم نمودار توزیع اولیه‌ی قیمت فروش\n",
    "plt.figure(figsize=(10, 6))\n",
    "sns.histplot(train_data['SalePrice'], kde=True)\n",
    "plt.title('توزیع اولیه قیمت فروش')\n",
    "plt.xlabel('SalePrice')\n",
    "plt.ylabel('Frequency')\n",
    "plt.show()\n",
    "\n",
    "# تبدیل لگاریتمی قیمت فروش برای کاهش اثر مقادیر بالا\n",
    "train_data['SalePrice'] = np.log1p(train_data['SalePrice'])\n",
    "\n",
    "# رسم نمودار توزیع پس از تبدیل لگاریتمی\n",
    "plt.figure(figsize=(10, 6))\n",
    "sns.histplot(train_data['SalePrice'], kde=True)\n",
    "plt.title('توزیع قیمت فروش پس از تبدیل لگاریتمی')\n",
    "plt.xlabel('Log(SalePrice)')\n",
    "plt.ylabel('Frequency')\n",
    "plt.show()\n"
   ]
  },
  {
   "cell_type": "markdown",
   "id": "aa10eae3",
   "metadata": {},
   "source": [
    "# انتخاب ویژگی‌ها و تقسیم داده‌ها به آموزش و تست\n",
    "در این بخش، برخی از ویژگی‌های مهم انتخاب شده و داده‌ها به مجموعه‌های آموزش و تست تقسیم می‌شوند."
   ]
  },
  {
   "cell_type": "code",
   "execution_count": 6,
   "id": "626b3fa3",
   "metadata": {},
   "outputs": [],
   "source": [
    "# انتخاب برخی از ویژگی‌های مهم برای آموزش مدل\n",
    "features = ['OverallQual', 'GrLivArea', 'GarageCars', 'TotalBsmtSF', 'FullBath', 'YearBuilt']\n",
    "X = train_data[features]\n",
    "y = train_data['SalePrice']\n",
    "\n",
    "# تقسیم داده‌ها به دو مجموعه‌ی آموزش و تست\n",
    "X_train, X_test, y_train, y_test = train_test_split(X, y, test_size=0.2, random_state=42)\n"
   ]
  },
  {
   "cell_type": "markdown",
   "id": "404e38f9",
   "metadata": {},
   "source": [
    "روش کار: ابتدا داده‌ها را از نظر مقادیر گم‌شده بررسی کرده و مقادیر گم‌شده را به صورت مناسب پر کردیم. سپس با استفاده از چند مدل مختلف رگرسیون، پیش‌بینی قیمت را انجام دادیم. معیارهای اصلی برای ارزیابی این مدل‌ها شامل خطای ریشه میانگین مربعات (RMSE)، میانگین خطای مطلق (MAE)، و ضریب تعیین (R^2) بود."
   ]
  },
  {
   "cell_type": "markdown",
   "id": "e307fa4e",
   "metadata": {},
   "source": [
    "# پیاده‌سازی مدل‌های رگرسیون و ارزیابی آن‌ها\n",
    "در این بخش، مدل‌های مختلف رگرسیون پیاده‌سازی و آموزش داده شده و سپس با استفاده از معیارهای RMSE، MAE، و R² ارزیابی می‌شوند."
   ]
  },
  {
   "cell_type": "code",
   "execution_count": 7,
   "id": "053fb0b2",
   "metadata": {},
   "outputs": [
    {
     "name": "stdout",
     "output_type": "stream",
     "text": [
      "Linear Regression - RMSE: 0.1741212198586566, MAE: 0.12128133901885724, R^2: 0.8375326156605083\n",
      "Ridge Regression - RMSE: 0.17410323969887206, MAE: 0.12124848453228901, R^2: 0.8375661674436646\n",
      "Lasso Regression - RMSE: 0.20572048751578487, MAE: 0.14237217375913752, R^2: 0.7732131462154432\n",
      "ElasticNet - RMSE: 0.18722304761490305, MAE: 0.12848261946057674, R^2: 0.8121628858876717\n"
     ]
    }
   ],
   "source": [
    "# تعریف و آموزش مدل‌های مختلف رگرسیون\n",
    "models = {\n",
    "    \"Linear Regression\": LinearRegression(),\n",
    "    \"Ridge Regression\": Ridge(alpha=1.0),\n",
    "    \"Lasso Regression\": Lasso(alpha=0.1),\n",
    "    \"ElasticNet\": ElasticNet(alpha=0.1, l1_ratio=0.5)\n",
    "}\n",
    "\n",
    "# ارزیابی هر مدل و نمایش نتایج\n",
    "for model_name, model in models.items():\n",
    "    model.fit(X_train, y_train)\n",
    "    y_pred = model.predict(X_test)\n",
    "    rmse = np.sqrt(mean_squared_error(y_test, y_pred))\n",
    "    mae = mean_absolute_error(y_test, y_pred)\n",
    "    r2 = r2_score(y_test, y_pred)\n",
    "    print(f\"{model_name} - RMSE: {rmse}, MAE: {mae}, R^2: {r2}\")\n"
   ]
  },
  {
   "cell_type": "markdown",
   "id": "bf2026a4",
   "metadata": {},
   "source": [
    "نتایج ارزیابی مدل‌ها\n",
    "برای هر مدل، می‌توانید نتایج را به‌صورت فهرست زیر اضافه کنید و توضیح دهید که کدام مدل بهتر عمل کرده است:\n",
    "\n",
    "Linear Regression - RMSE: 0.1741, MAE: 0.1213, R^2: 0.8375\n",
    "Ridge Regression - RMSE: 0.1741, MAE: 0.1212, R^2: 0.8376\n",
    "Lasso Regression - RMSE: 0.2057, MAE: 0.1424, R^2: 0.7732\n",
    "ElasticNet - RMSE: 0.1872, MAE: 0.1285, R^2: 0.8122"
   ]
  },
  {
   "cell_type": "markdown",
   "id": "fb5b9ff1",
   "metadata": {},
   "source": [
    "# تحلیل نتایج: \n",
    "مدل‌های Ridge و Linear Regression بهترین عملکرد را در این پروژه داشتند. مدل‌های Lasso و ElasticNet عملکرد پایین‌تری داشتند، زیرا مقادیر خطای RMSE و MAE در آن‌ها بیشتر بود.\n",
    "\n",
    "این پروژه نشان داد که استفاده از روش‌های رگرسیون پیشرفته (مانند Ridge و Lasso) در داده‌های پیچیده و پر از ویژگی مفید است. به‌عنوان کارهای آتی، می‌توان ویژگی‌های بیشتری به مدل‌ها اضافه کرد یا از تکنیک‌های دیگر مانند Random Forest و Gradient Boosting استفاده کرد."
   ]
  },
  {
   "cell_type": "code",
   "execution_count": 8,
   "id": "e47a7ce9",
   "metadata": {},
   "outputs": [],
   "source": [
    "#نمونه تستی"
   ]
  },
  {
   "cell_type": "markdown",
   "id": "9f03bcc5",
   "metadata": {},
   "source": []
  },
  {
   "cell_type": "code",
   "execution_count": 15,
   "id": "8922b61f",
   "metadata": {},
   "outputs": [
    {
     "name": "stdout",
     "output_type": "stream",
     "text": [
      "Sample 1 - Actual Price: $337,000.00 - Predicted Price: $303,337.49\n",
      "Sample 2 - Actual Price: $108,000.00 - Predicted Price: $106,292.79\n",
      "Sample 3 - Actual Price: $281,000.00 - Predicted Price: $275,754.10\n",
      "Sample 4 - Actual Price: $200,000.00 - Predicted Price: $244,559.75\n",
      "Sample 5 - Actual Price: $85,400.00 - Predicted Price: $128,172.22\n"
     ]
    }
   ],
   "source": [
    "# انتخاب چند سطر از داده‌ها به عنوان نمونه‌ی تستی (مثلاً ۵ نمونه)\n",
    "sample_indices = np.random.choice(train_data.index, 5, replace=False)\n",
    "sample_data = train_data.loc[sample_indices]\n",
    "\n",
    "# جداسازی ویژگی‌ها و برچسب‌ها (قیمت واقعی) از داده‌ی نمونه\n",
    "sample_X = sample_data[X_train.columns]  # ستون‌های ویژگی مشابه X_train\n",
    "sample_y = sample_data['SalePrice']  # قیمت واقعی خانه‌ها\n",
    "\n",
    "# پیش‌بینی قیمت‌ها با مدل انتخابی (مثلاً Ridge)\n",
    "predicted_prices = models[\"Ridge Regression\"].predict(sample_X)\n",
    "\n",
    "# تبدیل لگاریتمی قیمت به مقدار واقعی\n",
    "predicted_prices = np.expm1(predicted_prices)\n",
    "sample_y = np.expm1(sample_y)\n",
    "\n",
    "# نمایش قیمت واقعی و پیش‌بینی شده\n",
    "for i, idx in enumerate(sample_indices):\n",
    "    print(f\"Sample {i+1} - Actual Price: ${sample_y.iloc[i]:,.2f} - Predicted Price: ${predicted_prices[i]:,.2f}\")\n"
   ]
  },
  {
   "cell_type": "code",
   "execution_count": null,
   "id": "68c5f321",
   "metadata": {},
   "outputs": [],
   "source": []
  }
 ],
 "metadata": {
  "kernelspec": {
   "display_name": "base",
   "language": "python",
   "name": "python3"
  },
  "language_info": {
   "codemirror_mode": {
    "name": "ipython",
    "version": 3
   },
   "file_extension": ".py",
   "mimetype": "text/x-python",
   "name": "python",
   "nbconvert_exporter": "python",
   "pygments_lexer": "ipython3",
   "version": "3.10.9"
  }
 },
 "nbformat": 4,
 "nbformat_minor": 5
}
